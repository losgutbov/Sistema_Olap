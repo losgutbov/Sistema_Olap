{
 "cells": [
  {
   "cell_type": "code",
   "execution_count": 6,
   "metadata": {
    "collapsed": true
   },
   "outputs": [],
   "source": [
    "import pandas as pd\n",
    "import math"
   ]
  },
  {
   "cell_type": "code",
   "execution_count": 2,
   "metadata": {
    "collapsed": true
   },
   "outputs": [],
   "source": [
    "data = pd.read_excel('../ocupacao.xlsx')"
   ]
  },
  {
   "cell_type": "code",
   "execution_count": 3,
   "metadata": {
    "collapsed": true
   },
   "outputs": [],
   "source": [
    "tabela = list()\n",
    "for linha in range(data.shape[0]):\n",
    "    tabela.append(data.loc[linha])"
   ]
  },
  {
   "cell_type": "code",
   "execution_count": 4,
   "metadata": {
    "collapsed": true
   },
   "outputs": [],
   "source": [
    "def porAno(ano):\n",
    "    lista = list()\n",
    "    for col in data.columns:\n",
    "        if(col.find(ano)>-1):\n",
    "            lista.append(col)\n",
    "    return lista\n",
    "\n",
    "ano = porAno('2014')"
   ]
  },
  {
   "cell_type": "code",
   "execution_count": 5,
   "metadata": {
    "collapsed": true
   },
   "outputs": [],
   "source": [
    "def somarColunas(colunas):\n",
    "    lista = list()\n",
    "    for col in colunas:\n",
    "        lista.append(data[col].sum())\n",
    "    return lista\n",
    "\n",
    "soma = somarColunas(ano)"
   ]
  },
  {
   "cell_type": "code",
   "execution_count": 8,
   "metadata": {},
   "outputs": [
    {
     "data": {
      "text/plain": [
       "[2753.0,\n",
       " 2730.0,\n",
       " 2796.0,\n",
       " 2778.0,\n",
       " 2755.0,\n",
       " 2844.0,\n",
       " 2738.0,\n",
       " 2742.0,\n",
       " 2742.0,\n",
       " 2782.0,\n",
       " 2770.0,\n",
       " 2776.0]"
      ]
     },
     "execution_count": 8,
     "metadata": {},
     "output_type": "execute_result"
    }
   ],
   "source": [
    "def somarLinhas(colunas):\n",
    "    lista = list()\n",
    "    for linha in range(data.shape[0]):\n",
    "        soma = 0\n",
    "        for col in colunas:\n",
    "            valor = data.loc[linha][col]\n",
    "            if not math.isnan(valor):\n",
    "                soma = soma + valor \n",
    "        lista.append(soma)\n",
    "    \n",
    "    return lista\n",
    "\n",
    "somarLinhas(ano)"
   ]
  }
 ],
 "metadata": {
  "kernelspec": {
   "display_name": "Python 3",
   "language": "python",
   "name": "python3"
  },
  "language_info": {
   "codemirror_mode": {
    "name": "ipython",
    "version": 3
   },
   "file_extension": ".py",
   "mimetype": "text/x-python",
   "name": "python",
   "nbconvert_exporter": "python",
   "pygments_lexer": "ipython3",
   "version": "3.6.1"
  }
 },
 "nbformat": 4,
 "nbformat_minor": 2
}
